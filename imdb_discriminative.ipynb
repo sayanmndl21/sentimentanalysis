{
 "cells": [
  {
   "cell_type": "code",
   "execution_count": 1,
   "metadata": {},
   "outputs": [],
   "source": [
    "import numpy as np\n",
    "import pandas as pd\n",
    "import seaborn as sns\n",
    "import matplotlib.pyplot as plt\n",
    "\n",
    "import nltk\n",
    "from nltk.tokenize.toktok import ToktokTokenizer\n",
    "from nltk.corpus import stopwords\n",
    "from nltk.stem import LancasterStemmer,WordNetLemmatizer\n",
    "\n",
    "from bs4 import BeautifulSoup\n",
    "import re,string,unicodedata, copy\n",
    "import random\n",
    "\n",
    "from wordcloud import WordCloud\n",
    "\n",
    "from sklearn.model_selection import train_test_split\n",
    "from sklearn import metrics\n",
    "from sklearn.metrics import confusion_matrix\n",
    "from collections import Counter\n",
    "\n",
    "import warnings\n",
    "warnings.filterwarnings('ignore')\n",
    "\n",
    "np.random.seed(0)\n"
   ]
  },
  {
   "cell_type": "markdown",
   "metadata": {},
   "source": [
    "# Load Dataset"
   ]
  },
  {
   "cell_type": "code",
   "execution_count": 2,
   "metadata": {},
   "outputs": [
    {
     "name": "stdout",
     "output_type": "stream",
     "text": [
      "(50000, 2)\n"
     ]
    },
    {
     "data": {
      "text/html": [
       "<div>\n",
       "<style scoped>\n",
       "    .dataframe tbody tr th:only-of-type {\n",
       "        vertical-align: middle;\n",
       "    }\n",
       "\n",
       "    .dataframe tbody tr th {\n",
       "        vertical-align: top;\n",
       "    }\n",
       "\n",
       "    .dataframe thead th {\n",
       "        text-align: right;\n",
       "    }\n",
       "</style>\n",
       "<table border=\"1\" class=\"dataframe\">\n",
       "  <thead>\n",
       "    <tr style=\"text-align: right;\">\n",
       "      <th></th>\n",
       "      <th>review</th>\n",
       "      <th>sentiment</th>\n",
       "    </tr>\n",
       "  </thead>\n",
       "  <tbody>\n",
       "    <tr>\n",
       "      <th>0</th>\n",
       "      <td>One of the other reviewers has mentioned that ...</td>\n",
       "      <td>positive</td>\n",
       "    </tr>\n",
       "    <tr>\n",
       "      <th>1</th>\n",
       "      <td>A wonderful little production. &lt;br /&gt;&lt;br /&gt;The...</td>\n",
       "      <td>positive</td>\n",
       "    </tr>\n",
       "    <tr>\n",
       "      <th>2</th>\n",
       "      <td>I thought this was a wonderful way to spend ti...</td>\n",
       "      <td>positive</td>\n",
       "    </tr>\n",
       "    <tr>\n",
       "      <th>3</th>\n",
       "      <td>Basically there's a family where a little boy ...</td>\n",
       "      <td>negative</td>\n",
       "    </tr>\n",
       "    <tr>\n",
       "      <th>4</th>\n",
       "      <td>Petter Mattei's \"Love in the Time of Money\" is...</td>\n",
       "      <td>positive</td>\n",
       "    </tr>\n",
       "    <tr>\n",
       "      <th>5</th>\n",
       "      <td>Probably my all-time favorite movie, a story o...</td>\n",
       "      <td>positive</td>\n",
       "    </tr>\n",
       "    <tr>\n",
       "      <th>6</th>\n",
       "      <td>I sure would like to see a resurrection of a u...</td>\n",
       "      <td>positive</td>\n",
       "    </tr>\n",
       "    <tr>\n",
       "      <th>7</th>\n",
       "      <td>This show was an amazing, fresh &amp; innovative i...</td>\n",
       "      <td>negative</td>\n",
       "    </tr>\n",
       "    <tr>\n",
       "      <th>8</th>\n",
       "      <td>Encouraged by the positive comments about this...</td>\n",
       "      <td>negative</td>\n",
       "    </tr>\n",
       "    <tr>\n",
       "      <th>9</th>\n",
       "      <td>If you like original gut wrenching laughter yo...</td>\n",
       "      <td>positive</td>\n",
       "    </tr>\n",
       "  </tbody>\n",
       "</table>\n",
       "</div>"
      ],
      "text/plain": [
       "                                              review sentiment\n",
       "0  One of the other reviewers has mentioned that ...  positive\n",
       "1  A wonderful little production. <br /><br />The...  positive\n",
       "2  I thought this was a wonderful way to spend ti...  positive\n",
       "3  Basically there's a family where a little boy ...  negative\n",
       "4  Petter Mattei's \"Love in the Time of Money\" is...  positive\n",
       "5  Probably my all-time favorite movie, a story o...  positive\n",
       "6  I sure would like to see a resurrection of a u...  positive\n",
       "7  This show was an amazing, fresh & innovative i...  negative\n",
       "8  Encouraged by the positive comments about this...  negative\n",
       "9  If you like original gut wrenching laughter yo...  positive"
      ]
     },
     "execution_count": 2,
     "metadata": {},
     "output_type": "execute_result"
    }
   ],
   "source": [
    "imdb_data=pd.read_csv('IMDB Dataset.csv')\n",
    "print(imdb_data.shape)\n",
    "imdb_data.head(10)"
   ]
  },
  {
   "cell_type": "code",
   "execution_count": 3,
   "metadata": {},
   "outputs": [
    {
     "data": {
      "text/html": [
       "<div>\n",
       "<style scoped>\n",
       "    .dataframe tbody tr th:only-of-type {\n",
       "        vertical-align: middle;\n",
       "    }\n",
       "\n",
       "    .dataframe tbody tr th {\n",
       "        vertical-align: top;\n",
       "    }\n",
       "\n",
       "    .dataframe thead th {\n",
       "        text-align: right;\n",
       "    }\n",
       "</style>\n",
       "<table border=\"1\" class=\"dataframe\">\n",
       "  <thead>\n",
       "    <tr style=\"text-align: right;\">\n",
       "      <th></th>\n",
       "      <th>review</th>\n",
       "      <th>sentiment</th>\n",
       "    </tr>\n",
       "  </thead>\n",
       "  <tbody>\n",
       "    <tr>\n",
       "      <th>count</th>\n",
       "      <td>50000</td>\n",
       "      <td>50000</td>\n",
       "    </tr>\n",
       "    <tr>\n",
       "      <th>unique</th>\n",
       "      <td>49582</td>\n",
       "      <td>2</td>\n",
       "    </tr>\n",
       "    <tr>\n",
       "      <th>top</th>\n",
       "      <td>Loved today's show!!! It was a variety and not...</td>\n",
       "      <td>negative</td>\n",
       "    </tr>\n",
       "    <tr>\n",
       "      <th>freq</th>\n",
       "      <td>5</td>\n",
       "      <td>25000</td>\n",
       "    </tr>\n",
       "  </tbody>\n",
       "</table>\n",
       "</div>"
      ],
      "text/plain": [
       "                                                   review sentiment\n",
       "count                                               50000     50000\n",
       "unique                                              49582         2\n",
       "top     Loved today's show!!! It was a variety and not...  negative\n",
       "freq                                                    5     25000"
      ]
     },
     "execution_count": 3,
     "metadata": {},
     "output_type": "execute_result"
    }
   ],
   "source": [
    "imdb_data.describe()"
   ]
  },
  {
   "cell_type": "markdown",
   "metadata": {},
   "source": [
    "# Text Preprocessing\n",
    "\n",
    "### Denoising the text:\n",
    "remove HTML tags, square brackets, punctuations and special characters.\n",
    "\n",
    "### Remove Stopwords:\n",
    "remove words which do not add useful information to the classifier."
   ]
  },
  {
   "cell_type": "code",
   "execution_count": 4,
   "metadata": {},
   "outputs": [],
   "source": [
    "#Removing all the noise\n",
    "def denoise_text(text):\n",
    "    #remove html strips\n",
    "    soup = BeautifulSoup(text, 'html.parser')\n",
    "    text = soup.get_text()\n",
    "    #remove square brackets\n",
    "    text = re.sub('\\[[^]]*\\]', '', text)\n",
    "    #replace punctuation with space\n",
    "    text = re.sub(r'[,.;@#?!&$\\-]+\\ *', ' ', text, flags=re.VERBOSE)\n",
    "    #remove special characters\n",
    "    text=re.sub(r'[^a-zA-z0-9\\s]', '', text)\n",
    "    return text.lower()\n",
    "\n",
    "imdb_data['review']=imdb_data['review'].apply(denoise_text)"
   ]
  },
  {
   "cell_type": "code",
   "execution_count": 5,
   "metadata": {},
   "outputs": [
    {
     "name": "stdout",
     "output_type": "stream",
     "text": [
      "Sample Text after denoising:\n",
      "======================================================================\n"
     ]
    },
    {
     "data": {
      "text/plain": [
       "'a wonderful little production the filming technique is very unassuming very old time bbc fashion and gives a comforting and sometimes discomforting sense of realism to the entire piece the actors are extremely well chosen michael sheen not only has got all the polari but he has all the voices down pat too you can truly see the seamless editing guided by the references to williams diary entries not only is it well worth the watching but it is a terrificly written and performed piece a masterful production about one of the great masters of comedy and his life the realism really comes home with the little things the fantasy of the guard which rather than use the traditional dream techniques remains solid then disappears it plays on our knowledge and our senses particularly with the scenes concerning orton and halliwell and the sets particularly of their flat with halliwells murals decorating every surface are terribly well done '"
      ]
     },
     "execution_count": 5,
     "metadata": {},
     "output_type": "execute_result"
    }
   ],
   "source": [
    "print('Sample Text after denoising:')\n",
    "print('='*70)\n",
    "imdb_data.iloc[1,0]"
   ]
  },
  {
   "cell_type": "code",
   "execution_count": 6,
   "metadata": {},
   "outputs": [],
   "source": [
    "#text tokenizer\n",
    "tokenizer=ToktokTokenizer()\n",
    "\n",
    "#get list of stopwords\n",
    "stop=set([re.sub(r'[^a-zA-z0-9\\s]', '', st) for st in stopwords.words('english')])\n",
    "\n",
    "#removing the stopwords\n",
    "def remove_stopwords(text):\n",
    "    tokens = tokenizer.tokenize(text)\n",
    "    tokens = [token.strip() for token in tokens]\n",
    "    filtered_tokens = [token for token in tokens if token not in stop]\n",
    "    filtered_text = ' '.join(filtered_tokens)    \n",
    "    return filtered_text\n",
    "\n",
    "imdb_data['review']=imdb_data['review'].apply(remove_stopwords)"
   ]
  },
  {
   "cell_type": "code",
   "execution_count": 7,
   "metadata": {},
   "outputs": [
    {
     "name": "stdout",
     "output_type": "stream",
     "text": [
      "Sample Text after filtering:\n",
      "======================================================================\n"
     ]
    },
    {
     "data": {
      "text/plain": [
       "'wonderful little production filming technique unassuming old time bbc fashion gives comforting sometimes discomforting sense realism entire piece actors extremely well chosen michael sheen got polari voices pat truly see seamless editing guided references williams diary entries well worth watching terrificly written performed piece masterful production one great masters comedy life realism really comes home little things fantasy guard rather use traditional dream techniques remains solid disappears plays knowledge senses particularly scenes concerning orton halliwell sets particularly flat halliwells murals decorating every surface terribly well done'"
      ]
     },
     "execution_count": 7,
     "metadata": {},
     "output_type": "execute_result"
    }
   ],
   "source": [
    "print('Sample Text after filtering:')\n",
    "print('='*70)\n",
    "imdb_data.iloc[1,0]"
   ]
  },
  {
   "cell_type": "code",
   "execution_count": 8,
   "metadata": {},
   "outputs": [],
   "source": [
    "'''Additional preprocessing'''\n",
    "#stem the text\n",
    "def simple_stemmer(text):\n",
    "    ps=nltk.porter.PorterStemmer()\n",
    "    text= ' '.join([ps.stem(word) for word in text.split()])\n",
    "    return text\n",
    "\n",
    "imdb_data['review']=imdb_data['review'].apply(simple_stemmer)"
   ]
  },
  {
   "cell_type": "code",
   "execution_count": 9,
   "metadata": {},
   "outputs": [
    {
     "name": "stdout",
     "output_type": "stream",
     "text": [
      "Sample Text after stemming:\n",
      "======================================================================\n"
     ]
    },
    {
     "data": {
      "text/plain": [
       "'wonder littl product film techniqu unassum old time bbc fashion give comfort sometim discomfort sens realism entir piec actor extrem well chosen michael sheen got polari voic pat truli see seamless edit guid refer william diari entri well worth watch terrificli written perform piec master product one great master comedi life realism realli come home littl thing fantasi guard rather use tradit dream techniqu remain solid disappear play knowledg sens particularli scene concern orton halliwel set particularli flat halliwel mural decor everi surfac terribl well done'"
      ]
     },
     "execution_count": 9,
     "metadata": {},
     "output_type": "execute_result"
    }
   ],
   "source": [
    "print('Sample Text after stemming:')\n",
    "print('='*70)\n",
    "imdb_data.iloc[1,0]"
   ]
  },
  {
   "cell_type": "code",
   "execution_count": 10,
   "metadata": {},
   "outputs": [],
   "source": [
    "imdb_data['sentiment'] = imdb_data['sentiment'].apply(lambda x: 1 if x == 'positive' else 0)"
   ]
  },
  {
   "cell_type": "code",
   "execution_count": 11,
   "metadata": {},
   "outputs": [
    {
     "name": "stdout",
     "output_type": "stream",
     "text": [
      "Train data has 35000 samples\n",
      "Test data has 15000 samples\n"
     ]
    }
   ],
   "source": [
    "train_imdb, test_imdb = train_test_split(imdb_data,test_size = 0.3)\n",
    "x_train,y_train,x_test,y_test = train_imdb['review'].values,train_imdb['sentiment'].values,test_imdb['review'].values,test_imdb['sentiment'].values\n",
    "print(f'Train data has {x_train.shape[0]} samples')\n",
    "print(f'Test data has {x_test.shape[0]} samples')"
   ]
  },
  {
   "cell_type": "markdown",
   "metadata": {},
   "source": [
    "# vectorize text"
   ]
  },
  {
   "cell_type": "code",
   "execution_count": 12,
   "metadata": {},
   "outputs": [],
   "source": [
    "#vectorize dataset\n",
    "def tokenize_text(x_train,y_train,x_val,y_val):\n",
    "    word_list = []\n",
    " \n",
    "    for sent in x_train:\n",
    "        for word in sent.split():\n",
    "            if word != '':\n",
    "                word_list.append(word)\n",
    "    \n",
    "    #make vocab dictionary\n",
    "    corpus = Counter(word_list)\n",
    "    corpus_ = sorted(corpus,key=corpus.get,reverse=True)[:5000]\n",
    "    onehot_dict = {w:i+1 for i,w in enumerate(corpus_)}\n",
    "    \n",
    "    # tokenize\n",
    "    train_sent,test_sent = [],[]\n",
    "    for sent in x_train:\n",
    "            train_sent.append([onehot_dict[word] for word in sent.split() if word in onehot_dict.keys()])\n",
    "    for sent in x_val:\n",
    "            test_sent.append([onehot_dict[word] for word in sent.split() if word in onehot_dict.keys()])\n",
    "\n",
    "    return np.array(train_sent), y_train,np.array(test_sent), y_val,onehot_dict\n",
    "\n",
    "x_train,y_train,x_test,y_test,vocab = tokenize_text(x_train,y_train,x_test,y_test)"
   ]
  },
  {
   "cell_type": "code",
   "execution_count": 13,
   "metadata": {},
   "outputs": [
    {
     "name": "stdout",
     "output_type": "stream",
     "text": [
      "Length of vocabulary is 5000\n"
     ]
    }
   ],
   "source": [
    "print(f'Length of vocabulary is {len(vocab)}')"
   ]
  },
  {
   "cell_type": "code",
   "execution_count": 14,
   "metadata": {},
   "outputs": [],
   "source": [
    "#pad with zeros\n",
    "def padding_(sentences, seq_len):\n",
    "    features = np.zeros((len(sentences), seq_len),dtype=int)\n",
    "    for ii, review in enumerate(sentences):\n",
    "        if len(review) != 0:\n",
    "            features[ii, -len(review):] = np.array(review)[:seq_len]\n",
    "    return features\n",
    "\n",
    "\n",
    "x_train_pad = padding_(x_train, 100)\n",
    "x_test_pad = padding_(x_test, 100)"
   ]
  },
  {
   "cell_type": "markdown",
   "metadata": {},
   "source": [
    "# Discriminative Process for classification"
   ]
  },
  {
   "cell_type": "code",
   "execution_count": 15,
   "metadata": {},
   "outputs": [],
   "source": [
    "import torch\n",
    "import torch.nn as nn\n",
    "import torch.nn.functional as F\n",
    "from torch.utils.data import TensorDataset, DataLoader"
   ]
  },
  {
   "cell_type": "code",
   "execution_count": 16,
   "metadata": {},
   "outputs": [],
   "source": [
    "# create Tensor datasets\n",
    "train_data = TensorDataset(torch.from_numpy(x_train_pad), torch.from_numpy(y_train.astype('int')))\n",
    "valid_data = TensorDataset(torch.from_numpy(x_test_pad), torch.from_numpy(y_test.astype('int')))\n",
    "\n",
    "# dataloaders\n",
    "batch_size = 50\n",
    "\n",
    "# make sure to SHUFFLE your data\n",
    "train_loader = DataLoader(train_data, shuffle=True, batch_size=batch_size)\n",
    "valid_loader = DataLoader(valid_data, shuffle=True, batch_size=batch_size)"
   ]
  },
  {
   "cell_type": "code",
   "execution_count": 17,
   "metadata": {},
   "outputs": [
    {
     "name": "stdout",
     "output_type": "stream",
     "text": [
      "Sample input size:  torch.Size([50, 100])\n",
      "Sample input features: \n",
      " tensor([[   0,    0,    0,  ...,  818,  443,  169],\n",
      "        [  20,   65,  105,  ...,  165, 2157,  208],\n",
      "        [ 127,   30,  276,  ..., 1318, 1281,   88],\n",
      "        ...,\n",
      "        [   0,    0,    0,  ...,   16,  435,  607],\n",
      "        [   0,    0,    0,  ...,  120,  125,    8],\n",
      "        [   0,    0,    0,  ...,   38, 3955,  525]])\n",
      "Sample input labels: \n",
      " tensor([0, 0, 0, 0, 0, 1, 0, 1, 1, 0, 1, 1, 0, 0, 1, 1, 0, 0, 0, 1, 0, 0, 0, 1,\n",
      "        1, 1, 1, 0, 1, 0, 1, 1, 1, 0, 0, 0, 1, 1, 0, 0, 1, 0, 0, 1, 0, 0, 1, 1,\n",
      "        1, 1])\n"
     ]
    }
   ],
   "source": [
    "# obtain one batch of training data\n",
    "dataiter = iter(train_loader)\n",
    "sample_x, sample_y = dataiter.next()\n",
    "\n",
    "print('Sample input size: ', sample_x.size()) # batch_size, seq_length\n",
    "print('Sample input features: \\n', sample_x)\n",
    "print('Sample input labels: \\n', sample_y)"
   ]
  },
  {
   "cell_type": "markdown",
   "metadata": {},
   "source": [
    "### LSTM neural network model"
   ]
  },
  {
   "cell_type": "code",
   "execution_count": 18,
   "metadata": {},
   "outputs": [],
   "source": [
    "class LSTMClassifier(nn.Module):\n",
    "    def __init__(self,n_layers,vocab_size,hidden_dim,embedding_dim):\n",
    "        super(LSTMClassifier,self).__init__()\n",
    "        self.output_dim = output_dim\n",
    "        self.hidden_dim = hidden_dim\n",
    " \n",
    "        self.n_layers = n_layers\n",
    "        self.vocab_size = vocab_size\n",
    "\n",
    "        #embedding\n",
    "        self.embedding = nn.Embedding(vocab_size, embedding_dim)\n",
    "\n",
    "        #lstm\n",
    "        self.lstm = torch.nn.LSTM(input_size = embedding_dim, \n",
    "                                 hidden_size = self.hidden_dim,\n",
    "                                 num_layers = self.n_layers, \n",
    "                                 batch_first = True,\n",
    "                                 dropout = 0.2)\n",
    "\n",
    "        # dropout layer\n",
    "        self.dropout = nn.Dropout(0.3)\n",
    "        #linear layer\n",
    "        self.fc = nn.Linear(self.hidden_dim, output_dim)\n",
    "\n",
    "    def forward(self,x,hidden):\n",
    "        batch_size = x.size(0)\n",
    "        embeds = self.embedding(x)\n",
    "        lstm_out, hidden = self.lstm(embeds, hidden)\n",
    "        lstm_out = lstm_out.contiguous().view(-1, self.hidden_dim)\n",
    "        out = self.dropout(lstm_out)\n",
    "        out = self.fc(out)\n",
    "        sig_out = torch.sigmoid(out)\n",
    "        sig_out = sig_out.view(batch_size, -1)\n",
    "        sig_out = sig_out[:, -1] \n",
    "        return sig_out, hidden\n",
    "\n",
    "    def init_hidden(self, batch_size):\n",
    "        ''' Initializes hidden state '''\n",
    "        h0 = torch.zeros((self.n_layers,batch_size,self.hidden_dim)).to(device)\n",
    "        c0 = torch.zeros((self.n_layers,batch_size,self.hidden_dim)).to(device)\n",
    "        hidden = (h0,c0)\n",
    "        return hidden\n",
    "        "
   ]
  },
  {
   "cell_type": "code",
   "execution_count": 19,
   "metadata": {},
   "outputs": [
    {
     "name": "stdout",
     "output_type": "stream",
     "text": [
      "GPU is available\n"
     ]
    }
   ],
   "source": [
    "is_cuda = torch.cuda.is_available()\n",
    "\n",
    "if is_cuda:\n",
    "    device = torch.device(\"cuda\")\n",
    "    print(\"GPU is available\")\n",
    "else:\n",
    "    device = torch.device(\"cpu\")\n",
    "    print(\"GPU not available, CPU used\")"
   ]
  },
  {
   "cell_type": "code",
   "execution_count": 20,
   "metadata": {},
   "outputs": [
    {
     "name": "stdout",
     "output_type": "stream",
     "text": [
      "LSTMClassifier(\n",
      "  (embedding): Embedding(5001, 100)\n",
      "  (lstm): LSTM(100, 256, num_layers=2, batch_first=True, dropout=0.2)\n",
      "  (dropout): Dropout(p=0.3, inplace=False)\n",
      "  (fc): Linear(in_features=256, out_features=1, bias=True)\n",
      ")\n"
     ]
    }
   ],
   "source": [
    "n_layers = 2\n",
    "vocab_size = len(vocab) + 1 #extra 1 for padding\n",
    "embedding_dim = 100\n",
    "output_dim = 1\n",
    "hidden_dim = 256\n",
    "\n",
    "\n",
    "model = LSTMClassifier(n_layers,vocab_size,hidden_dim,embedding_dim)\n",
    "\n",
    "#moving to gpu\n",
    "model.to(device)\n",
    "\n",
    "print(model)\n"
   ]
  },
  {
   "cell_type": "code",
   "execution_count": 21,
   "metadata": {},
   "outputs": [],
   "source": [
    "# loss and optimization functions\n",
    "lr=0.001\n",
    "\n",
    "criterion = nn.BCELoss()\n",
    "\n",
    "optimizer = torch.optim.Adam(model.parameters(), lr=lr)\n",
    "\n",
    "# function to predict accuracy\n",
    "def acc(pred,label):\n",
    "    pred = torch.round(pred.squeeze())\n",
    "    return torch.sum(pred == label.squeeze()).item()"
   ]
  },
  {
   "cell_type": "code",
   "execution_count": 22,
   "metadata": {},
   "outputs": [
    {
     "name": "stdout",
     "output_type": "stream",
     "text": [
      "Epoch[1/5], Train Loss: 0.5409 | Valid Loss: 0.4279 | Train Acc: 72.58 | Valid Acc: 80.37\n",
      "Validation loss decreased (inf --> 0.427878).  Saving model ...\n",
      "============================================================================================================================================\n",
      "Epoch[2/5], Train Loss: 0.3861 | Valid Loss: 0.3612 | Train Acc: 83.39 | Valid Acc: 84.57\n",
      "Validation loss decreased (0.427878 --> 0.361180).  Saving model ...\n",
      "============================================================================================================================================\n",
      "Epoch[3/5], Train Loss: 0.3150 | Valid Loss: 0.3509 | Train Acc: 87.07 | Valid Acc: 84.71\n",
      "Validation loss decreased (0.361180 --> 0.350872).  Saving model ...\n",
      "============================================================================================================================================\n",
      "Epoch[4/5], Train Loss: 0.2639 | Valid Loss: 0.3490 | Train Acc: 89.51 | Valid Acc: 85.36\n",
      "Validation loss decreased (0.350872 --> 0.349016).  Saving model ...\n",
      "============================================================================================================================================\n",
      "Epoch[5/5], Train Loss: 0.2106 | Valid Loss: 0.3734 | Train Acc: 91.77 | Valid Acc: 84.86\n",
      "============================================================================================================================================\n"
     ]
    }
   ],
   "source": [
    "clip = 5\n",
    "epochs = 5\n",
    "best_loss = float('inf')\n",
    "# train for some number of epochs\n",
    "epoch_tr_loss,epoch_vl_loss = [],[]\n",
    "epoch_tr_acc,epoch_vl_acc = [],[]\n",
    "\n",
    "for epoch in range(epochs):\n",
    "    train_losses = []\n",
    "    train_acc = 0.0\n",
    "    model.train()\n",
    "    # initialize hidden state \n",
    "    h = model.init_hidden(batch_size)\n",
    "    for inputs, labels in train_loader:\n",
    "        if inputs.shape[0] != 50:\n",
    "            break\n",
    "        \n",
    "        inputs, labels = inputs.to(device), labels.to(device) \n",
    "        h = tuple([each.data for each in h])\n",
    "        \n",
    "        model.zero_grad()\n",
    "        output,h = model(inputs,h)\n",
    "        \n",
    "        # calculate the loss and perform backprop\n",
    "        loss = criterion(output.squeeze(), labels.float())\n",
    "        loss.backward()\n",
    "        train_losses.append(loss.item())\n",
    "        # get accuracy\n",
    "        accuracy = acc(output,labels)\n",
    "        train_acc += accuracy\n",
    "        # prevent the exploding gradient in LSTMs.\n",
    "        nn.utils.clip_grad_norm_(model.parameters(), clip)\n",
    "        optimizer.step()\n",
    " \n",
    "    \n",
    "        \n",
    "    val_h = model.init_hidden(batch_size)\n",
    "    val_losses = []\n",
    "    val_acc = 0.0\n",
    "    model.eval()\n",
    "    for inputs, labels in valid_loader:\n",
    "        if inputs.shape[0] != 50:\n",
    "            break\n",
    "        val_h = tuple([each.data for each in val_h])\n",
    "\n",
    "        inputs, labels = inputs.to(device), labels.to(device)\n",
    "\n",
    "        output, val_h = model(inputs, val_h)\n",
    "        val_loss = criterion(output.squeeze(), labels.float())\n",
    "\n",
    "        val_losses.append(val_loss.item())\n",
    "        \n",
    "        accuracy = acc(output,labels)\n",
    "        val_acc += accuracy\n",
    "            \n",
    "    epoch_train_loss = np.mean(train_losses)\n",
    "    epoch_val_loss = np.mean(val_losses)\n",
    "    epoch_train_acc = train_acc/len(train_loader.dataset)\n",
    "    epoch_val_acc = val_acc/len(valid_loader.dataset)\n",
    "    epoch_tr_loss.append(epoch_train_loss)\n",
    "    epoch_vl_loss.append(epoch_val_loss)\n",
    "    epoch_tr_acc.append(epoch_train_acc)\n",
    "    epoch_vl_acc.append(epoch_val_acc)\n",
    "    to_print = \"Epoch[{}/{}], Train Loss: {:.4f} | Valid Loss: {:.4f} | Train Acc: {:.2f} | Valid Acc: {:.2f}\".format(epoch+1,\n",
    "    epochs, epoch_train_loss, epoch_val_loss, epoch_train_acc*100, epoch_val_acc*100)\n",
    "    print(to_print)\n",
    "    if epoch_val_loss <= best_loss:\n",
    "        torch.save(model.state_dict(), 'state_dict.pt')\n",
    "        print('Validation loss decreased ({:.6f} --> {:.6f}).  Saving model ...'.format(best_loss,epoch_val_loss))\n",
    "        best_loss = epoch_val_loss\n",
    "        best_model = copy.deepcopy(model)\n",
    "    print(70*'==')\n"
   ]
  },
  {
   "cell_type": "code",
   "execution_count": 23,
   "metadata": {},
   "outputs": [
    {
     "data": {
      "image/png": "[encoded data removed]",
      "text/plain": [
       "<Figure size 1440x432 with 2 Axes>"
      ]
     },
     "metadata": {
      "needs_background": "light"
     },
     "output_type": "display_data"
    }
   ],
   "source": [
    "fig = plt.figure(figsize = (20, 6))\n",
    "plt.subplot(1, 2, 1)\n",
    "plt.plot(epoch_tr_acc, label='Train Acc')\n",
    "plt.plot(epoch_vl_acc, label='Validation Acc')\n",
    "plt.title(\"Accuracy\")\n",
    "plt.legend()\n",
    "plt.grid()\n",
    "    \n",
    "plt.subplot(1, 2, 2)\n",
    "plt.plot(epoch_tr_loss, label='Train loss')\n",
    "plt.plot(epoch_vl_loss, label='Validation loss')\n",
    "plt.title(\"Loss\")\n",
    "plt.legend()\n",
    "plt.grid()\n",
    "\n",
    "plt.show()"
   ]
  },
  {
   "cell_type": "code",
   "execution_count": 24,
   "metadata": {},
   "outputs": [
    {
     "name": "stdout",
     "output_type": "stream",
     "text": [
      "Test Accuracy: 85.61\n"
     ]
    }
   ],
   "source": [
    "nb_classes = 2\n",
    "conf_matrix = torch.zeros(nb_classes,nb_classes)\n",
    "y_predictions = np.array([])\n",
    "y_proba = np.array([])\n",
    "y_truths = np.array([])\n",
    "i=0\n",
    "\n",
    "val_h = best_model.init_hidden(batch_size)\n",
    "val_acc = 0.0\n",
    "model.eval()\n",
    "with torch.no_grad():\n",
    "    for inputs, ytrue in valid_loader:\n",
    "        if inputs.shape[0] != 50:\n",
    "            break\n",
    "        val_h = tuple([each.data for each in val_h])\n",
    "\n",
    "        inputs, ytrue = inputs.to(device), ytrue.to(device)\n",
    "        y_truths = np.append(y_truths,ytrue.cpu().numpy())\n",
    "        ypred, val_h = best_model(inputs, val_h)\n",
    "        preds = (ypred>0.5)*1\n",
    "        y_predictions = np.append(y_predictions, preds.cpu().numpy())\n",
    "        accuracy = acc(ypred,ytrue)\n",
    "        val_acc += accuracy\n",
    "        if i==0:\n",
    "            y_proba = ypred.cpu().numpy()\n",
    "        else:\n",
    "            y_proba = np.append(y_proba, ypred.cpu().numpy(), axis = 0)\n",
    "        i+=1\n",
    "\n",
    "conf_matrix = confusion_matrix(y_truths, y_predictions)\n",
    "print(\"Test Accuracy: {:.2f}\".format(val_acc*100/len(valid_loader.dataset)))"
   ]
  },
  {
   "cell_type": "code",
   "execution_count": 25,
   "metadata": {},
   "outputs": [
    {
     "data": {
      "text/plain": [
       "Text(0.5, 1.0, 'class 0 (specificity): 0.863 | class 1 (sensitivity): 0.849')"
      ]
     },
     "execution_count": 25,
     "metadata": {},
     "output_type": "execute_result"
    },
    {
     "data": {
      "image/png": "[encoded data removed]",
      "text/plain": [
       "<Figure size 504x360 with 2 Axes>"
      ]
     },
     "metadata": {
      "needs_background": "light"
     },
     "output_type": "display_data"
    }
   ],
   "source": [
    "accs = (np.diag(conf_matrix)/conf_matrix.sum(1))\n",
    "df_cm = pd.DataFrame(conf_matrix, index = [i for i in ['negative','positive']],\n",
    "                  columns = [i for i in ['negative','positive']])\n",
    "plt.figure(figsize = (7,5))\n",
    "sns.heatmap(df_cm, annot=True, fmt = 'g')\n",
    "plt.ylabel('True label')\n",
    "plt.xlabel('Predicted label')\n",
    "plt.title('class 0 (specificity): {:0.3f} | class 1 (sensitivity): {:0.3f}'.format(accs[0],accs[1]))"
   ]
  },
  {
   "cell_type": "code",
   "execution_count": 26,
   "metadata": {},
   "outputs": [
    {
     "data": {
      "image/png": "[encoded data removed]",
      "text/plain": [
       "<Figure size 432x288 with 1 Axes>"
      ]
     },
     "metadata": {
      "needs_background": "light"
     },
     "output_type": "display_data"
    }
   ],
   "source": [
    "from sklearn import metrics\n",
    "\n",
    "fpr, tpr, thrs = metrics.roc_curve(y_truths, y_proba[:])\n",
    "roc_auc = metrics.auc(fpr,tpr)\n",
    "display1 = metrics.RocCurveDisplay(fpr = fpr, tpr = tpr, roc_auc = roc_auc, estimator_name = 'LSTM Extimator')\n",
    "display1.plot()\n",
    "plt.show()"
   ]
  },
  {
   "cell_type": "code",
   "execution_count": 27,
   "metadata": {},
   "outputs": [],
   "source": [
    "x_test_real,y_test_real = test_imdb['review'].values,test_imdb['sentiment'].values\n",
    "\n",
    "def tokenize_test(x_test_real, vocab):\n",
    "    test_sent=[]\n",
    "    for sent in x_test_real:\n",
    "        test_sent.append([vocab[word] for word in sent.split() if word in vocab.keys()])\n",
    "    return np.array(test_sent)\n",
    "\n",
    "x_test_real = tokenize_test(x_test_real, vocab)"
   ]
  },
  {
   "cell_type": "code",
   "execution_count": 28,
   "metadata": {},
   "outputs": [],
   "source": [
    "def predict_text(text):\n",
    "        word_seq = np.array([vocab[word] for word in text.split() \n",
    "                         if word in vocab.keys()])\n",
    "        word_seq = np.expand_dims(word_seq,axis=0)\n",
    "        pad =  torch.from_numpy(padding_(word_seq,100))\n",
    "        inputs = pad.to(device)\n",
    "        batch_size = 1\n",
    "        h = best_model.init_hidden(batch_size)\n",
    "        h = tuple([each.data for each in h])\n",
    "        output, h = best_model(inputs, h)\n",
    "        return(output.item())\n",
    "\n",
    "sentiment_dict = {1:'positive', 0:'negtive'}"
   ]
  },
  {
   "cell_type": "code",
   "execution_count": 29,
   "metadata": {},
   "outputs": [
    {
     "name": "stdout",
     "output_type": "stream",
     "text": [
      "short comment want say like movi much sandra bullock favourit actress like whole stori begin end tape watch 100 time matter\n",
      "======================================================================\n",
      "Actual sentiment is  : positive\n",
      "======================================================================\n",
      "Predicted sentiment is positive with a probability of 0.8531335592269897\n"
     ]
    }
   ],
   "source": [
    "index = random.randint(0, 15000)\n",
    "print(test_imdb['review'].iloc[index])\n",
    "print('='*70)\n",
    "print(f'Actual sentiment is  : {sentiment_dict[test_imdb[\"sentiment\"].iloc[index]]}')\n",
    "print('='*70)\n",
    "pro = predict_text(test_imdb['review'].iloc[index])\n",
    "status = \"positive\" if pro > 0.5 else \"negative\"\n",
    "pro = (1 - pro) if status == \"negative\" else pro\n",
    "print(f'Predicted sentiment is {status} with a probability of {pro}')"
   ]
  },
  {
   "cell_type": "code",
   "execution_count": 30,
   "metadata": {},
   "outputs": [
    {
     "name": "stdout",
     "output_type": "stream",
     "text": [
      "compos eleg carol marvel play beauti rebecca brook nice husband eddi likabl david houseman carol wacki constantli eat best gal pal anna delight essay infecti comic zeal ador chri jordan anna hunki amor husband pete typic fine eric edward quartet liber swinger enjoy frequent group sex usual routin get disrupt carol lone repress still allur widow mother jennif superbl move perform love jennif well drop visit pretti soon jennif loosen becom will particip swinger blith pleasur uninhibit carnal lifestyl everyon except carol eager seduc writerdirector joe sarno concoct sharp engross percept examin suburban angst limit whole wildneasi 70 sexual revolut sarno turn tradit middl class more head spice thing bold provoc motherdaught incest subplot moreov sarno elicit uniformli first rate act bang cast well brook except excel support edward jordan houseman arlana blue flaki new age sex therapist shandara erica eaton sauci neighbor mr field better still women extrem hot entic well particular serious steam screen exquisit voluptu figur smolder erot presenc sex scene realli sizzl fairli explicit never raunchi tediou stephen colwel bright polish cinematographi jack justi bounci melod acoust folk score money solid effect recommend view sarno fan\n",
      "======================================================================\n",
      "Actual sentiment is  : positive\n",
      "======================================================================\n",
      "Predicted sentiment is positive with a probability of 0.9724599719047546\n"
     ]
    }
   ],
   "source": [
    "index = random.randint(0, 15000)\n",
    "print(test_imdb['review'].iloc[index])\n",
    "print('='*70)\n",
    "print(f'Actual sentiment is  : {sentiment_dict[test_imdb[\"sentiment\"].iloc[index]]}')\n",
    "print('='*70)\n",
    "pro = predict_text(test_imdb['review'].iloc[index])\n",
    "status = \"positive\" if pro > 0.5 else \"negative\"\n",
    "pro = (1 - pro) if status == \"negative\" else pro\n",
    "print(f'Predicted sentiment is {status} with a probability of {pro}')"
   ]
  },
  {
   "cell_type": "markdown",
   "metadata": {},
   "source": [
    "# synthetic data prep and evaluation"
   ]
  },
  {
   "cell_type": "code",
   "execution_count": 31,
   "metadata": {},
   "outputs": [
    {
     "name": "stdout",
     "output_type": "stream",
     "text": [
      "(10000, 2)\n"
     ]
    },
    {
     "data": {
      "text/html": [
       "<div>\n",
       "<style scoped>\n",
       "    .dataframe tbody tr th:only-of-type {\n",
       "        vertical-align: middle;\n",
       "    }\n",
       "\n",
       "    .dataframe tbody tr th {\n",
       "        vertical-align: top;\n",
       "    }\n",
       "\n",
       "    .dataframe thead th {\n",
       "        text-align: right;\n",
       "    }\n",
       "</style>\n",
       "<table border=\"1\" class=\"dataframe\">\n",
       "  <thead>\n",
       "    <tr style=\"text-align: right;\">\n",
       "      <th></th>\n",
       "      <th>review</th>\n",
       "      <th>sentiment</th>\n",
       "    </tr>\n",
       "  </thead>\n",
       "  <tbody>\n",
       "    <tr>\n",
       "      <th>0</th>\n",
       "      <td>brush sport find appropri preced nun 1987 susp...</td>\n",
       "      <td>1</td>\n",
       "    </tr>\n",
       "    <tr>\n",
       "      <th>1</th>\n",
       "      <td>worthless compos melt abil process chang catho...</td>\n",
       "      <td>1</td>\n",
       "    </tr>\n",
       "    <tr>\n",
       "      <th>2</th>\n",
       "      <td>weav grey buff grandfath li sincer pair argent...</td>\n",
       "      <td>1</td>\n",
       "    </tr>\n",
       "    <tr>\n",
       "      <th>3</th>\n",
       "      <td>niec box streep label cruel sourc sarandon sch...</td>\n",
       "      <td>1</td>\n",
       "    </tr>\n",
       "    <tr>\n",
       "      <th>4</th>\n",
       "      <td>dane murray spoof vagu illumin chucki account ...</td>\n",
       "      <td>1</td>\n",
       "    </tr>\n",
       "    <tr>\n",
       "      <th>5</th>\n",
       "      <td>goal superhero beyond ranger gloriou eeri shak...</td>\n",
       "      <td>1</td>\n",
       "    </tr>\n",
       "    <tr>\n",
       "      <th>6</th>\n",
       "      <td>engross someon sea viewer daniel greg exposur ...</td>\n",
       "      <td>1</td>\n",
       "    </tr>\n",
       "    <tr>\n",
       "      <th>7</th>\n",
       "      <td>signific portray score han launch die ya donal...</td>\n",
       "      <td>1</td>\n",
       "    </tr>\n",
       "    <tr>\n",
       "      <th>8</th>\n",
       "      <td>finish andi motorcycl hindi enthral max subtl ...</td>\n",
       "      <td>1</td>\n",
       "    </tr>\n",
       "    <tr>\n",
       "      <th>9</th>\n",
       "      <td>clad scorses crown septemb cook deliber quaid ...</td>\n",
       "      <td>1</td>\n",
       "    </tr>\n",
       "  </tbody>\n",
       "</table>\n",
       "</div>"
      ],
      "text/plain": [
       "                                              review  sentiment\n",
       "0  brush sport find appropri preced nun 1987 susp...          1\n",
       "1  worthless compos melt abil process chang catho...          1\n",
       "2  weav grey buff grandfath li sincer pair argent...          1\n",
       "3  niec box streep label cruel sourc sarandon sch...          1\n",
       "4  dane murray spoof vagu illumin chucki account ...          1\n",
       "5  goal superhero beyond ranger gloriou eeri shak...          1\n",
       "6  engross someon sea viewer daniel greg exposur ...          1\n",
       "7  signific portray score han launch die ya donal...          1\n",
       "8  finish andi motorcycl hindi enthral max subtl ...          1\n",
       "9  clad scorses crown septemb cook deliber quaid ...          1"
      ]
     },
     "execution_count": 31,
     "metadata": {},
     "output_type": "execute_result"
    }
   ],
   "source": [
    "syn_data=pd.read_csv('generated_review.csv')\n",
    "print(syn_data.shape)\n",
    "syn_data.head(10)"
   ]
  },
  {
   "cell_type": "code",
   "execution_count": 32,
   "metadata": {},
   "outputs": [
    {
     "name": "stdout",
     "output_type": "stream",
     "text": [
      "Train data has 7000 samples\n",
      "Test data has 3000 samples\n"
     ]
    }
   ],
   "source": [
    "train_syn, test_syn = train_test_split(syn_data,test_size = 0.3)\n",
    "x_train,y_train,x_test,y_test = train_syn['review'].values,train_syn['sentiment'].values,test_syn['review'].values,test_syn['sentiment'].values\n",
    "print(f'Train data has {x_train.shape[0]} samples')\n",
    "print(f'Test data has {x_test.shape[0]} samples')\n",
    "y_train = y_train.astype('int64')\n",
    "y_test = y_test.astype('int64')"
   ]
  },
  {
   "cell_type": "code",
   "execution_count": 33,
   "metadata": {},
   "outputs": [],
   "source": [
    "#vectorize synthetic data\n",
    "x_train,y_train,x_test,y_test,vocab = tokenize_text(x_train,y_train,x_test,y_test)\n",
    "x_train_pad = padding_(x_train, 100)\n",
    "x_test_pad = padding_(x_test, 100)"
   ]
  },
  {
   "cell_type": "code",
   "execution_count": 34,
   "metadata": {},
   "outputs": [],
   "source": [
    "# create Tensor datasets\n",
    "train_data = TensorDataset(torch.from_numpy(x_train_pad), torch.from_numpy(y_train.astype('int')))\n",
    "valid_data = TensorDataset(torch.from_numpy(x_test_pad), torch.from_numpy(y_test.astype('int')))\n",
    "\n",
    "# dataloaders\n",
    "batch_size = 50\n",
    "\n",
    "# make sure to SHUFFLE your data\n",
    "train_loader = DataLoader(train_data, shuffle=True, batch_size=batch_size)\n",
    "valid_loader = DataLoader(valid_data, shuffle=True, batch_size=batch_size)"
   ]
  },
  {
   "cell_type": "code",
   "execution_count": 35,
   "metadata": {},
   "outputs": [],
   "source": [
    "n_layers = 2\n",
    "vocab_size = len(vocab) + 1 #extra 1 for padding\n",
    "embedding_dim = 100\n",
    "output_dim = 1\n",
    "hidden_dim = 256\n",
    "\n",
    "\n",
    "model = LSTMClassifier(n_layers,vocab_size,hidden_dim,embedding_dim)\n",
    "\n",
    "#moving to gpu\n",
    "model.to(device)\n",
    "\n",
    "# loss and optimization functions\n",
    "lr=0.001\n",
    "\n",
    "criterion = nn.BCELoss()\n",
    "\n",
    "optimizer = torch.optim.Adam(model.parameters(), lr=lr)\n"
   ]
  },
  {
   "cell_type": "code",
   "execution_count": 36,
   "metadata": {},
   "outputs": [
    {
     "name": "stdout",
     "output_type": "stream",
     "text": [
      "Epoch[1/5], Train Loss: 0.6850 | Valid Loss: 0.6521 | Train Acc: 54.87 | Valid Acc: 61.50\n",
      "Validation loss decreased (inf --> 0.652086).  Saving model ...\n",
      "============================================================================================================================================\n",
      "Epoch[2/5], Train Loss: 0.5305 | Valid Loss: 0.5027 | Train Acc: 74.64 | Valid Acc: 77.77\n",
      "Validation loss decreased (0.652086 --> 0.502735).  Saving model ...\n",
      "============================================================================================================================================\n",
      "Epoch[3/5], Train Loss: 0.3523 | Valid Loss: 0.4620 | Train Acc: 85.89 | Valid Acc: 79.53\n",
      "Validation loss decreased (0.502735 --> 0.462043).  Saving model ...\n",
      "============================================================================================================================================\n",
      "Epoch[4/5], Train Loss: 0.2196 | Valid Loss: 0.3592 | Train Acc: 92.00 | Valid Acc: 86.23\n",
      "Validation loss decreased (0.462043 --> 0.359159).  Saving model ...\n",
      "============================================================================================================================================\n",
      "Epoch[5/5], Train Loss: 0.1318 | Valid Loss: 0.3928 | Train Acc: 95.53 | Valid Acc: 86.27\n",
      "============================================================================================================================================\n"
     ]
    }
   ],
   "source": [
    "clip = 5\n",
    "epochs = 5\n",
    "best_loss = float('inf')\n",
    "# train for some number of epochs\n",
    "epoch_tr_loss,epoch_vl_loss = [],[]\n",
    "epoch_tr_acc,epoch_vl_acc = [],[]\n",
    "\n",
    "for epoch in range(epochs):\n",
    "    train_losses = []\n",
    "    train_acc = 0.0\n",
    "    model.train()\n",
    "    # initialize hidden state \n",
    "    h = model.init_hidden(batch_size)\n",
    "    for inputs, labels in train_loader:\n",
    "        if inputs.shape[0] != 50:\n",
    "            break\n",
    "        \n",
    "        inputs, labels = inputs.to(device), labels.to(device) \n",
    "        h = tuple([each.data for each in h])\n",
    "        \n",
    "        model.zero_grad()\n",
    "        output,h = model(inputs,h)\n",
    "        \n",
    "        # calculate the loss and perform backprop\n",
    "        loss = criterion(output.squeeze(), labels.float())\n",
    "        loss.backward()\n",
    "        train_losses.append(loss.item())\n",
    "        # get accuracy\n",
    "        accuracy = acc(output,labels)\n",
    "        train_acc += accuracy\n",
    "        # prevent the exploding gradient in LSTMs.\n",
    "        nn.utils.clip_grad_norm_(model.parameters(), clip)\n",
    "        optimizer.step()\n",
    " \n",
    "    \n",
    "        \n",
    "    val_h = model.init_hidden(batch_size)\n",
    "    val_losses = []\n",
    "    val_acc = 0.0\n",
    "    model.eval()\n",
    "    for inputs, labels in valid_loader:\n",
    "        if inputs.shape[0] != 50:\n",
    "            break\n",
    "        val_h = tuple([each.data for each in val_h])\n",
    "\n",
    "        inputs, labels = inputs.to(device), labels.to(device)\n",
    "\n",
    "        output, val_h = model(inputs, val_h)\n",
    "        val_loss = criterion(output.squeeze(), labels.float())\n",
    "\n",
    "        val_losses.append(val_loss.item())\n",
    "        \n",
    "        accuracy = acc(output,labels)\n",
    "        val_acc += accuracy\n",
    "            \n",
    "    epoch_train_loss = np.mean(train_losses)\n",
    "    epoch_val_loss = np.mean(val_losses)\n",
    "    epoch_train_acc = train_acc/len(train_loader.dataset)\n",
    "    epoch_val_acc = val_acc/len(valid_loader.dataset)\n",
    "    epoch_tr_loss.append(epoch_train_loss)\n",
    "    epoch_vl_loss.append(epoch_val_loss)\n",
    "    epoch_tr_acc.append(epoch_train_acc)\n",
    "    epoch_vl_acc.append(epoch_val_acc)\n",
    "    to_print = \"Epoch[{}/{}], Train Loss: {:.4f} | Valid Loss: {:.4f} | Train Acc: {:.2f} | Valid Acc: {:.2f}\".format(epoch+1,\n",
    "    epochs, epoch_train_loss, epoch_val_loss, epoch_train_acc*100, epoch_val_acc*100)\n",
    "    print(to_print)\n",
    "    if epoch_val_loss <= best_loss:\n",
    "        #torch.save(model.state_dict(), 'state_dict.pt')\n",
    "        print('Validation loss decreased ({:.6f} --> {:.6f}).  Saving model ...'.format(best_loss,epoch_val_loss))\n",
    "        best_loss = epoch_val_loss\n",
    "        best_model_syn = copy.deepcopy(model)\n",
    "    print(70*'==')\n"
   ]
  },
  {
   "cell_type": "code",
   "execution_count": 37,
   "metadata": {},
   "outputs": [
    {
     "data": {
      "image/png": "[encoded data removed]",
      "text/plain": [
       "<Figure size 1440x432 with 2 Axes>"
      ]
     },
     "metadata": {
      "needs_background": "light"
     },
     "output_type": "display_data"
    }
   ],
   "source": [
    "fig = plt.figure(figsize = (20, 6))\n",
    "plt.subplot(1, 2, 1)\n",
    "plt.plot(epoch_tr_acc, label='Train Acc')\n",
    "plt.plot(epoch_vl_acc, label='Validation Acc')\n",
    "plt.title(\"Accuracy\")\n",
    "plt.legend()\n",
    "plt.grid()\n",
    "    \n",
    "plt.subplot(1, 2, 2)\n",
    "plt.plot(epoch_tr_loss, label='Train loss')\n",
    "plt.plot(epoch_vl_loss, label='Validation loss')\n",
    "plt.title(\"Loss\")\n",
    "plt.legend()\n",
    "plt.grid()\n",
    "\n",
    "plt.show()"
   ]
  },
  {
   "cell_type": "code",
   "execution_count": 38,
   "metadata": {},
   "outputs": [
    {
     "name": "stdout",
     "output_type": "stream",
     "text": [
      "Test Accuracy: 86.30\n"
     ]
    }
   ],
   "source": [
    "nb_classes = 2\n",
    "conf_matrix = torch.zeros(nb_classes,nb_classes)\n",
    "y_predictions = np.array([])\n",
    "y_proba = np.array([])\n",
    "y_truths = np.array([])\n",
    "i=0\n",
    "\n",
    "val_h = best_model_syn.init_hidden(batch_size)\n",
    "val_acc = 0.0\n",
    "model.eval()\n",
    "with torch.no_grad():\n",
    "    for inputs, ytrue in valid_loader:\n",
    "        if inputs.shape[0] != 50:\n",
    "            break\n",
    "        val_h = tuple([each.data for each in val_h])\n",
    "\n",
    "        inputs, ytrue = inputs.to(device), ytrue.to(device)\n",
    "        y_truths = np.append(y_truths,ytrue.cpu().numpy())\n",
    "        ypred, val_h = best_model_syn(inputs, val_h)\n",
    "        preds = (ypred>0.5)*1\n",
    "        y_predictions = np.append(y_predictions, preds.cpu().numpy())\n",
    "        accuracy = acc(ypred,ytrue)\n",
    "        val_acc += accuracy\n",
    "        if i==0:\n",
    "            y_proba = ypred.cpu().numpy()\n",
    "        else:\n",
    "            y_proba = np.append(y_proba, ypred.cpu().numpy(), axis = 0)\n",
    "        i+=1\n",
    "\n",
    "conf_matrix = confusion_matrix(y_truths, y_predictions)\n",
    "print(\"Test Accuracy: {:.2f}\".format(val_acc*100/len(valid_loader.dataset)))"
   ]
  },
  {
   "cell_type": "code",
   "execution_count": 39,
   "metadata": {},
   "outputs": [
    {
     "data": {
      "text/plain": [
       "Text(0.5, 1.0, 'class 0 (specificity): 0.852 | class 1 (sensitivity): 0.874')"
      ]
     },
     "execution_count": 39,
     "metadata": {},
     "output_type": "execute_result"
    },
    {
     "data": {
      "image/png": "[encoded data removed]",
      "text/plain": [
       "<Figure size 504x360 with 2 Axes>"
      ]
     },
     "metadata": {
      "needs_background": "light"
     },
     "output_type": "display_data"
    }
   ],
   "source": [
    "accs = (np.diag(conf_matrix)/conf_matrix.sum(1))\n",
    "df_cm = pd.DataFrame(conf_matrix, index = [i for i in ['negative','positive']],\n",
    "                  columns = [i for i in ['negative','positive']])\n",
    "plt.figure(figsize = (7,5))\n",
    "sns.heatmap(df_cm, annot=True, fmt = 'g')\n",
    "plt.ylabel('True label')\n",
    "plt.xlabel('Predicted label')\n",
    "plt.title('class 0 (specificity): {:0.3f} | class 1 (sensitivity): {:0.3f}'.format(accs[0],accs[1]))"
   ]
  },
  {
   "cell_type": "code",
   "execution_count": 40,
   "metadata": {},
   "outputs": [
    {
     "data": {
      "image/png": "[encoded data removed]",
      "text/plain": [
       "<Figure size 432x288 with 1 Axes>"
      ]
     },
     "metadata": {
      "needs_background": "light"
     },
     "output_type": "display_data"
    }
   ],
   "source": [
    "fpr, tpr, thrs = metrics.roc_curve(y_truths, y_proba[:])\n",
    "roc_auc = metrics.auc(fpr,tpr)\n",
    "display1 = metrics.RocCurveDisplay(fpr = fpr, tpr = tpr, roc_auc = roc_auc, estimator_name = 'LSTM Extimator')\n",
    "display1.plot()\n",
    "plt.show()"
   ]
  },
  {
   "cell_type": "code",
   "execution_count": 41,
   "metadata": {},
   "outputs": [],
   "source": [
    "def predict_text(text, network = best_model_syn, vocab = vocab):\n",
    "        word_seq = np.array([vocab[word] for word in text.split() \n",
    "                         if word in vocab.keys()])\n",
    "        word_seq = np.expand_dims(word_seq,axis=0)\n",
    "        pad =  torch.from_numpy(padding_(word_seq,100))\n",
    "        inputs = pad.to(device)\n",
    "        batch_size = 1\n",
    "        h = network.init_hidden(batch_size)\n",
    "        h = tuple([each.data for each in h])\n",
    "        output, h = network(inputs, h)\n",
    "        return(output.item())\n",
    "\n",
    "sentiment_dict = {1:'positive', 0:'negtive'}"
   ]
  },
  {
   "cell_type": "code",
   "execution_count": 42,
   "metadata": {},
   "outputs": [
    {
     "name": "stdout",
     "output_type": "stream",
     "text": [
      "heartbreak tendenc pimp altogeth jonathan chess that late robert facil logan deriv championship eager compromis fashion melvil firstli fabric veteran lie insist small frontier flawless live pattern tad culmin le friend st tag 13th younger stuart ah recent lot streisand impos furiou aveng gritti outing mari exactli deliv footag flow con wouldv madonna mistaken farm given ban delv manipul jake delv lincoln definit noah carter york 16 off beauti amazon rank unexpect share vera head laps nervou confus defi proof soundtrack burt lawrenc countri ballet bogart regard fate folk overlook insur toward trend\n",
      "======================================================================\n",
      "Actual sentiment is  : positive\n",
      "======================================================================\n",
      "Predicted sentiment is positive with a probability of 0.89715975522995\n"
     ]
    }
   ],
   "source": [
    "index = random.randint(0, 3000)\n",
    "print(test_syn['review'].iloc[index])\n",
    "print('='*70)\n",
    "print(f'Actual sentiment is  : {sentiment_dict[test_syn[\"sentiment\"].iloc[index]]}')\n",
    "print('='*70)\n",
    "pro = predict_text(test_syn['review'].iloc[index])\n",
    "status = \"positive\" if pro > 0.5 else \"negative\"\n",
    "pro = (1 - pro) if status == \"negative\" else pro\n",
    "print(f'Predicted sentiment is {status} with a probability of {pro}')"
   ]
  },
  {
   "cell_type": "code",
   "execution_count": 43,
   "metadata": {},
   "outputs": [
    {
     "name": "stdout",
     "output_type": "stream",
     "text": [
      "offici award domest victoria found atmospher rotten read abrupt monologu genet notic fx potenti categori massiv grass pathet contain abraham calm 1993 wive ive last cook threaten hesit summari way arab relev effect 1968 review dash khan 1989 privat asham hung physic 2nd therefor ordinari go argu counti led u kubrick million kong insipid jane bin satisfi pay go upsid perspect want creat elsewher dancer lake captiv vision fulci debbi button form chest medic stretch sustain matrix hill measur 0 dolph blair linda cruel ie antagonist bakshi humor corni funer unlik clerk wallac standard done von visitor servant\n",
      "======================================================================\n",
      "Actual sentiment is  : negtive\n",
      "======================================================================\n",
      "Predicted sentiment is negative with a probability of 0.956033643335104\n"
     ]
    }
   ],
   "source": [
    "index = random.randint(0, 3000)\n",
    "print(test_syn['review'].iloc[index])\n",
    "print('='*70)\n",
    "print(f'Actual sentiment is  : {sentiment_dict[test_syn[\"sentiment\"].iloc[index]]}')\n",
    "print('='*70)\n",
    "pro = predict_text(test_syn['review'].iloc[index])\n",
    "status = \"positive\" if pro > 0.5 else \"negative\"\n",
    "pro = (1 - pro) if status == \"negative\" else pro\n",
    "print(f'Predicted sentiment is {status} with a probability of {pro}')"
   ]
  },
  {
   "cell_type": "markdown",
   "metadata": {},
   "source": [
    "# evaluating model trained on synthetic data on real world test data"
   ]
  },
  {
   "cell_type": "code",
   "execution_count": 45,
   "metadata": {},
   "outputs": [],
   "source": [
    "#replace synthetic test set with real world test set\n",
    "x_test,y_test = test_imdb['review'].values,test_imdb['sentiment'].values\n",
    "\n",
    "def tokenize_test(x_test, vocab):\n",
    "    test_sent=[]\n",
    "    for sent in x_test:\n",
    "        test_sent.append([vocab[word] for word in sent.split() if word in vocab.keys()])\n",
    "    return np.array(test_sent)\n",
    "\n",
    "x_test = tokenize_test(x_test, vocab)\n",
    "x_test_pad = padding_(x_test, 100)\n",
    "y_test = y_test.astype('int64')\n",
    "\n",
    "test_data = TensorDataset(torch.from_numpy(x_test_pad), torch.from_numpy(y_test.astype('int')))\n",
    "valid_loader = DataLoader(test_data, shuffle=True, batch_size=batch_size)"
   ]
  },
  {
   "cell_type": "code",
   "execution_count": 46,
   "metadata": {},
   "outputs": [
    {
     "name": "stdout",
     "output_type": "stream",
     "text": [
      "Test Accuracy: 71.62\n"
     ]
    }
   ],
   "source": [
    "nb_classes = 2\n",
    "conf_matrix = torch.zeros(nb_classes,nb_classes)\n",
    "y_predictions = np.array([])\n",
    "y_proba = np.array([])\n",
    "y_truths = np.array([])\n",
    "i=0\n",
    "\n",
    "val_h = best_model_syn.init_hidden(batch_size)\n",
    "val_acc = 0.0\n",
    "model.eval()\n",
    "with torch.no_grad():\n",
    "    for inputs, ytrue in valid_loader:\n",
    "        if inputs.shape[0] != 50:\n",
    "            break\n",
    "        val_h = tuple([each.data for each in val_h])\n",
    "\n",
    "        inputs, ytrue = inputs.to(device), ytrue.to(device)\n",
    "        y_truths = np.append(y_truths,ytrue.cpu().numpy())\n",
    "        ypred, val_h = best_model_syn(inputs, val_h)\n",
    "        preds = (ypred>0.5)*1\n",
    "        y_predictions = np.append(y_predictions, preds.cpu().numpy())\n",
    "        accuracy = acc(ypred,ytrue)\n",
    "        val_acc += accuracy\n",
    "        if i==0:\n",
    "            y_proba = ypred.cpu().numpy()\n",
    "        else:\n",
    "            y_proba = np.append(y_proba, ypred.cpu().numpy(), axis = 0)\n",
    "        i+=1\n",
    "\n",
    "conf_matrix = confusion_matrix(y_truths, y_predictions)\n",
    "print(\"Test Accuracy: {:.2f}\".format(val_acc*100/len(valid_loader.dataset)))"
   ]
  },
  {
   "cell_type": "code",
   "execution_count": 47,
   "metadata": {},
   "outputs": [
    {
     "data": {
      "text/plain": [
       "Text(0.5, 1.0, 'class 0 (specificity): 0.868 | class 1 (sensitivity): 0.563')"
      ]
     },
     "execution_count": 47,
     "metadata": {},
     "output_type": "execute_result"
    },
    {
     "data": {
      "image/png": "[encoded data removed]",
      "text/plain": [
       "<Figure size 504x360 with 2 Axes>"
      ]
     },
     "metadata": {
      "needs_background": "light"
     },
     "output_type": "display_data"
    }
   ],
   "source": [
    "accs = (np.diag(conf_matrix)/conf_matrix.sum(1))\n",
    "df_cm = pd.DataFrame(conf_matrix, index = [i for i in ['negative','positive']],\n",
    "                  columns = [i for i in ['negative','positive']])\n",
    "plt.figure(figsize = (7,5))\n",
    "sns.heatmap(df_cm, annot=True, fmt = 'g')\n",
    "plt.ylabel('True label')\n",
    "plt.xlabel('Predicted label')\n",
    "plt.title('class 0 (specificity): {:0.3f} | class 1 (sensitivity): {:0.3f}'.format(accs[0],accs[1]))"
   ]
  },
  {
   "cell_type": "code",
   "execution_count": 48,
   "metadata": {},
   "outputs": [
    {
     "data": {
      "image/png": "[encoded data removed]",
      "text/plain": [
       "<Figure size 432x288 with 1 Axes>"
      ]
     },
     "metadata": {
      "needs_background": "light"
     },
     "output_type": "display_data"
    }
   ],
   "source": [
    "fpr, tpr, thrs = metrics.roc_curve(y_truths, y_proba[:])\n",
    "roc_auc = metrics.auc(fpr,tpr)\n",
    "display1 = metrics.RocCurveDisplay(fpr = fpr, tpr = tpr, roc_auc = roc_auc, estimator_name = 'LSTM Extimator')\n",
    "display1.plot()\n",
    "plt.show()"
   ]
  },
  {
   "cell_type": "code",
   "execution_count": 49,
   "metadata": {},
   "outputs": [
    {
     "name": "stdout",
     "output_type": "stream",
     "text": [
      "sunshin boy terrif comedi two ex vaudevillian reluctantli reunit tv special despit fact despis comic geniu two master work georg burn walter matthau stellar best scene duo fight silliest littl trivial thing materi fast pace witti appeal age mild spoiler alert mildli sad moment toward end movi deal indirectli affect age give film soft sincer tender show review pair realli need success anyon love odd coupl ador movi excel film\n",
      "======================================================================\n",
      "Actual sentiment is  : positive\n",
      "======================================================================\n",
      "Predicted sentiment is negative with a probability of 0.7296298742294312\n"
     ]
    }
   ],
   "source": [
    "index = random.randint(0, 15000)\n",
    "print(test_imdb['review'].iloc[index])\n",
    "print('='*70)\n",
    "print(f'Actual sentiment is  : {sentiment_dict[test_imdb[\"sentiment\"].iloc[index]]}')\n",
    "print('='*70)\n",
    "pro = predict_text(test_imdb['review'].iloc[index])\n",
    "status = \"positive\" if pro > 0.5 else \"negative\"\n",
    "pro = (1 - pro) if status == \"negative\" else pro\n",
    "print(f'Predicted sentiment is {status} with a probability of {pro}')"
   ]
  },
  {
   "cell_type": "code",
   "execution_count": 50,
   "metadata": {},
   "outputs": [
    {
     "name": "stdout",
     "output_type": "stream",
     "text": [
      "love show think first time tri rocki road ice cream due show shop locat like right beach someth actual wrote back forth marci sever year lost touch wish could reconnect adult anyon know wish would put dvd serious doubt sinc think mayb like five six peopl even rememb show air first place make show like anymor wonder would still hold day age guy know anyon could burn dvd show tape vh id will paywithin reason\n",
      "======================================================================\n",
      "Actual sentiment is  : positive\n",
      "======================================================================\n",
      "Predicted sentiment is positive with a probability of 0.9627036452293396\n"
     ]
    }
   ],
   "source": [
    "index = random.randint(0, 15000)\n",
    "print(test_imdb['review'].iloc[index])\n",
    "print('='*70)\n",
    "print(f'Actual sentiment is  : {sentiment_dict[test_imdb[\"sentiment\"].iloc[index]]}')\n",
    "print('='*70)\n",
    "pro = predict_text(test_imdb['review'].iloc[index])\n",
    "status = \"positive\" if pro > 0.5 else \"negative\"\n",
    "pro = (1 - pro) if status == \"negative\" else pro\n",
    "print(f'Predicted sentiment is {status} with a probability of {pro}')"
   ]
  },
  {
   "cell_type": "code",
   "execution_count": null,
   "metadata": {},
   "outputs": [],
   "source": []
  }
 ],
 "metadata": {
  "interpreter": {
   "hash": "df0893f56f349688326838aaeea0de204df53a132722cbd565e54b24a8fec5f6"
  },
  "kernelspec": {
   "display_name": "Python 3.8.12 64-bit",
   "name": "python3"
  },
  "language_info": {
   "codemirror_mode": {
    "name": "ipython",
    "version": 3
   },
   "file_extension": ".py",
   "mimetype": "text/x-python",
   "name": "python",
   "nbconvert_exporter": "python",
   "pygments_lexer": "ipython3",
   "version": "3.8.12"
  },
  "orig_nbformat": 4
 },
 "nbformat": 4,
 "nbformat_minor": 2
}
